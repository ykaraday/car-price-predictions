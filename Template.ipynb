{
 "cells": [
  {
   "cell_type": "code",
   "execution_count": 46,
   "metadata": {},
   "outputs": [],
   "source": [
    "# python version: python3"
   ]
  },
  {
   "cell_type": "markdown",
   "metadata": {},
   "source": [
    "## DATA PREPARATION"
   ]
  },
  {
   "cell_type": "markdown",
   "metadata": {},
   "source": [
    "### part a"
   ]
  },
  {
   "cell_type": "markdown",
   "metadata": {},
   "source": [
    "General imports and getting training data from file to car_data dataframe."
   ]
  },
  {
   "cell_type": "code",
   "execution_count": 47,
   "metadata": {},
   "outputs": [
    {
     "data": {
      "text/html": [
       "<div>\n",
       "<style scoped>\n",
       "    .dataframe tbody tr th:only-of-type {\n",
       "        vertical-align: middle;\n",
       "    }\n",
       "\n",
       "    .dataframe tbody tr th {\n",
       "        vertical-align: top;\n",
       "    }\n",
       "\n",
       "    .dataframe thead th {\n",
       "        text-align: right;\n",
       "    }\n",
       "</style>\n",
       "<table border=\"1\" class=\"dataframe\">\n",
       "  <thead>\n",
       "    <tr style=\"text-align: right;\">\n",
       "      <th></th>\n",
       "      <th>fueltype</th>\n",
       "      <th>aspiration</th>\n",
       "      <th>doornumber</th>\n",
       "      <th>carbody</th>\n",
       "      <th>drivewheel</th>\n",
       "      <th>enginelocation</th>\n",
       "      <th>wheelbase</th>\n",
       "      <th>carlength</th>\n",
       "      <th>carwidth</th>\n",
       "      <th>carheight</th>\n",
       "      <th>...</th>\n",
       "      <th>enginesize</th>\n",
       "      <th>fuelsystem</th>\n",
       "      <th>boreratio</th>\n",
       "      <th>stroke</th>\n",
       "      <th>compressionratio</th>\n",
       "      <th>horsepower</th>\n",
       "      <th>peakrpm</th>\n",
       "      <th>citympg</th>\n",
       "      <th>highwaympg</th>\n",
       "      <th>price</th>\n",
       "    </tr>\n",
       "  </thead>\n",
       "  <tbody>\n",
       "    <tr>\n",
       "      <th>0</th>\n",
       "      <td>gas</td>\n",
       "      <td>std</td>\n",
       "      <td>four</td>\n",
       "      <td>sedan</td>\n",
       "      <td>rwd</td>\n",
       "      <td>front</td>\n",
       "      <td>104.3</td>\n",
       "      <td>188.8</td>\n",
       "      <td>67.2</td>\n",
       "      <td>56.2</td>\n",
       "      <td>...</td>\n",
       "      <td>141.0</td>\n",
       "      <td>mpfi</td>\n",
       "      <td>NaN</td>\n",
       "      <td>3.15</td>\n",
       "      <td>9.5</td>\n",
       "      <td>114.0</td>\n",
       "      <td>5400.0</td>\n",
       "      <td>24.0</td>\n",
       "      <td>28.0</td>\n",
       "      <td>15985.0</td>\n",
       "    </tr>\n",
       "    <tr>\n",
       "      <th>1</th>\n",
       "      <td>gas</td>\n",
       "      <td>std</td>\n",
       "      <td>four</td>\n",
       "      <td>wagon</td>\n",
       "      <td>fwd</td>\n",
       "      <td>front</td>\n",
       "      <td>94.5</td>\n",
       "      <td>170.2</td>\n",
       "      <td>63.8</td>\n",
       "      <td>53.5</td>\n",
       "      <td>...</td>\n",
       "      <td>97.0</td>\n",
       "      <td>2bbl</td>\n",
       "      <td>3.15</td>\n",
       "      <td>3.29</td>\n",
       "      <td>9.4</td>\n",
       "      <td>69.0</td>\n",
       "      <td>5200.0</td>\n",
       "      <td>31.0</td>\n",
       "      <td>37.0</td>\n",
       "      <td>7349.0</td>\n",
       "    </tr>\n",
       "    <tr>\n",
       "      <th>2</th>\n",
       "      <td>gas</td>\n",
       "      <td>std</td>\n",
       "      <td>four</td>\n",
       "      <td>sedan</td>\n",
       "      <td>fwd</td>\n",
       "      <td>front</td>\n",
       "      <td>94.5</td>\n",
       "      <td>165.3</td>\n",
       "      <td>63.8</td>\n",
       "      <td>54.5</td>\n",
       "      <td>...</td>\n",
       "      <td>NaN</td>\n",
       "      <td>2bbl</td>\n",
       "      <td>3.15</td>\n",
       "      <td>3.29</td>\n",
       "      <td>9.4</td>\n",
       "      <td>69.0</td>\n",
       "      <td>5200.0</td>\n",
       "      <td>31.0</td>\n",
       "      <td>37.0</td>\n",
       "      <td>6849.0</td>\n",
       "    </tr>\n",
       "    <tr>\n",
       "      <th>3</th>\n",
       "      <td>gas</td>\n",
       "      <td>std</td>\n",
       "      <td>four</td>\n",
       "      <td>sedan</td>\n",
       "      <td>rwd</td>\n",
       "      <td>front</td>\n",
       "      <td>104.5</td>\n",
       "      <td>187.8</td>\n",
       "      <td>66.5</td>\n",
       "      <td>54.1</td>\n",
       "      <td>...</td>\n",
       "      <td>171.0</td>\n",
       "      <td>mpfi</td>\n",
       "      <td>3.27</td>\n",
       "      <td>3.35</td>\n",
       "      <td>9.2</td>\n",
       "      <td>156.0</td>\n",
       "      <td>5200.0</td>\n",
       "      <td>20.0</td>\n",
       "      <td>24.0</td>\n",
       "      <td>15690.0</td>\n",
       "    </tr>\n",
       "    <tr>\n",
       "      <th>4</th>\n",
       "      <td>gas</td>\n",
       "      <td>std</td>\n",
       "      <td>four</td>\n",
       "      <td>sedan</td>\n",
       "      <td>fwd</td>\n",
       "      <td>front</td>\n",
       "      <td>93.7</td>\n",
       "      <td>167.3</td>\n",
       "      <td>NaN</td>\n",
       "      <td>50.8</td>\n",
       "      <td>...</td>\n",
       "      <td>90.0</td>\n",
       "      <td>2bbl</td>\n",
       "      <td>2.97</td>\n",
       "      <td>3.23</td>\n",
       "      <td>9.4</td>\n",
       "      <td>68.0</td>\n",
       "      <td>5500.0</td>\n",
       "      <td>31.0</td>\n",
       "      <td>38.0</td>\n",
       "      <td>6692.0</td>\n",
       "    </tr>\n",
       "  </tbody>\n",
       "</table>\n",
       "<p>5 rows × 23 columns</p>\n",
       "</div>"
      ],
      "text/plain": [
       "  fueltype aspiration doornumber carbody drivewheel enginelocation  wheelbase  \\\n",
       "0      gas        std       four   sedan        rwd          front      104.3   \n",
       "1      gas        std       four   wagon        fwd          front       94.5   \n",
       "2      gas        std       four   sedan        fwd          front       94.5   \n",
       "3      gas        std       four   sedan        rwd          front      104.5   \n",
       "4      gas        std       four   sedan        fwd          front       93.7   \n",
       "\n",
       "   carlength  carwidth  carheight   ...     enginesize fuelsystem boreratio  \\\n",
       "0      188.8      67.2       56.2   ...          141.0       mpfi       NaN   \n",
       "1      170.2      63.8       53.5   ...           97.0       2bbl      3.15   \n",
       "2      165.3      63.8       54.5   ...            NaN       2bbl      3.15   \n",
       "3      187.8      66.5       54.1   ...          171.0       mpfi      3.27   \n",
       "4      167.3       NaN       50.8   ...           90.0       2bbl      2.97   \n",
       "\n",
       "   stroke compressionratio  horsepower  peakrpm  citympg  highwaympg    price  \n",
       "0    3.15              9.5       114.0   5400.0     24.0        28.0  15985.0  \n",
       "1    3.29              9.4        69.0   5200.0     31.0        37.0   7349.0  \n",
       "2    3.29              9.4        69.0   5200.0     31.0        37.0   6849.0  \n",
       "3    3.35              9.2       156.0   5200.0     20.0        24.0  15690.0  \n",
       "4    3.23              9.4        68.0   5500.0     31.0        38.0   6692.0  \n",
       "\n",
       "[5 rows x 23 columns]"
      ]
     },
     "execution_count": 47,
     "metadata": {},
     "output_type": "execute_result"
    }
   ],
   "source": [
    "import numpy as np\n",
    "import os\n",
    "# To plot pretty figures\n",
    "%matplotlib inline\n",
    "import matplotlib as mpl\n",
    "import matplotlib.pyplot as plt\n",
    "import pandas as pd\n",
    "\n",
    "#Get traing data from training.csv file to a car_data DataFrame\n",
    "car_data = pd.read_csv(\"training.csv\")\n",
    "car_data.head()"
   ]
  },
  {
   "cell_type": "code",
   "execution_count": 48,
   "metadata": {},
   "outputs": [],
   "source": [
    "# Because of the Price column is the label, we drop it from car_data, prroduce train_x_a \n",
    "# Then copy price column to train_y but train_y is Series so need to be converted to DataFrame\n",
    "train_x_a = car_data.drop(\"price\", axis=1)\n",
    "train_y_series = car_data[\"price\"].copy()\n",
    "train_y = train_y_series.to_frame()"
   ]
  },
  {
   "cell_type": "code",
   "execution_count": 49,
   "metadata": {},
   "outputs": [
    {
     "data": {
      "text/html": [
       "<div>\n",
       "<style scoped>\n",
       "    .dataframe tbody tr th:only-of-type {\n",
       "        vertical-align: middle;\n",
       "    }\n",
       "\n",
       "    .dataframe tbody tr th {\n",
       "        vertical-align: top;\n",
       "    }\n",
       "\n",
       "    .dataframe thead th {\n",
       "        text-align: right;\n",
       "    }\n",
       "</style>\n",
       "<table border=\"1\" class=\"dataframe\">\n",
       "  <thead>\n",
       "    <tr style=\"text-align: right;\">\n",
       "      <th></th>\n",
       "      <th>fueltype</th>\n",
       "      <th>aspiration</th>\n",
       "      <th>doornumber</th>\n",
       "      <th>carbody</th>\n",
       "      <th>drivewheel</th>\n",
       "      <th>enginelocation</th>\n",
       "      <th>wheelbase</th>\n",
       "      <th>carlength</th>\n",
       "      <th>carwidth</th>\n",
       "      <th>carheight</th>\n",
       "      <th>...</th>\n",
       "      <th>cylindernumber</th>\n",
       "      <th>enginesize</th>\n",
       "      <th>fuelsystem</th>\n",
       "      <th>boreratio</th>\n",
       "      <th>stroke</th>\n",
       "      <th>compressionratio</th>\n",
       "      <th>horsepower</th>\n",
       "      <th>peakrpm</th>\n",
       "      <th>citympg</th>\n",
       "      <th>highwaympg</th>\n",
       "    </tr>\n",
       "  </thead>\n",
       "  <tbody>\n",
       "    <tr>\n",
       "      <th>0</th>\n",
       "      <td>gas</td>\n",
       "      <td>std</td>\n",
       "      <td>four</td>\n",
       "      <td>sedan</td>\n",
       "      <td>rwd</td>\n",
       "      <td>front</td>\n",
       "      <td>104.3</td>\n",
       "      <td>188.8</td>\n",
       "      <td>67.2</td>\n",
       "      <td>56.2</td>\n",
       "      <td>...</td>\n",
       "      <td>four</td>\n",
       "      <td>141.0</td>\n",
       "      <td>mpfi</td>\n",
       "      <td>NaN</td>\n",
       "      <td>3.15</td>\n",
       "      <td>9.5</td>\n",
       "      <td>114.0</td>\n",
       "      <td>5400.0</td>\n",
       "      <td>24.0</td>\n",
       "      <td>28.0</td>\n",
       "    </tr>\n",
       "    <tr>\n",
       "      <th>1</th>\n",
       "      <td>gas</td>\n",
       "      <td>std</td>\n",
       "      <td>four</td>\n",
       "      <td>wagon</td>\n",
       "      <td>fwd</td>\n",
       "      <td>front</td>\n",
       "      <td>94.5</td>\n",
       "      <td>170.2</td>\n",
       "      <td>63.8</td>\n",
       "      <td>53.5</td>\n",
       "      <td>...</td>\n",
       "      <td>four</td>\n",
       "      <td>97.0</td>\n",
       "      <td>2bbl</td>\n",
       "      <td>3.15</td>\n",
       "      <td>3.29</td>\n",
       "      <td>9.4</td>\n",
       "      <td>69.0</td>\n",
       "      <td>5200.0</td>\n",
       "      <td>31.0</td>\n",
       "      <td>37.0</td>\n",
       "    </tr>\n",
       "  </tbody>\n",
       "</table>\n",
       "<p>2 rows × 22 columns</p>\n",
       "</div>"
      ],
      "text/plain": [
       "  fueltype aspiration doornumber carbody drivewheel enginelocation  wheelbase  \\\n",
       "0      gas        std       four   sedan        rwd          front      104.3   \n",
       "1      gas        std       four   wagon        fwd          front       94.5   \n",
       "\n",
       "   carlength  carwidth  carheight     ...      cylindernumber enginesize  \\\n",
       "0      188.8      67.2       56.2     ...                four      141.0   \n",
       "1      170.2      63.8       53.5     ...                four       97.0   \n",
       "\n",
       "  fuelsystem  boreratio stroke  compressionratio  horsepower  peakrpm  \\\n",
       "0       mpfi        NaN   3.15               9.5       114.0   5400.0   \n",
       "1       2bbl       3.15   3.29               9.4        69.0   5200.0   \n",
       "\n",
       "   citympg  highwaympg  \n",
       "0     24.0        28.0  \n",
       "1     31.0        37.0  \n",
       "\n",
       "[2 rows x 22 columns]"
      ]
     },
     "execution_count": 49,
     "metadata": {},
     "output_type": "execute_result"
    }
   ],
   "source": [
    "train_x_a.head(2)"
   ]
  },
  {
   "cell_type": "code",
   "execution_count": 50,
   "metadata": {},
   "outputs": [
    {
     "data": {
      "text/html": [
       "<div>\n",
       "<style scoped>\n",
       "    .dataframe tbody tr th:only-of-type {\n",
       "        vertical-align: middle;\n",
       "    }\n",
       "\n",
       "    .dataframe tbody tr th {\n",
       "        vertical-align: top;\n",
       "    }\n",
       "\n",
       "    .dataframe thead th {\n",
       "        text-align: right;\n",
       "    }\n",
       "</style>\n",
       "<table border=\"1\" class=\"dataframe\">\n",
       "  <thead>\n",
       "    <tr style=\"text-align: right;\">\n",
       "      <th></th>\n",
       "      <th>price</th>\n",
       "    </tr>\n",
       "  </thead>\n",
       "  <tbody>\n",
       "    <tr>\n",
       "      <th>0</th>\n",
       "      <td>15985.0</td>\n",
       "    </tr>\n",
       "    <tr>\n",
       "      <th>1</th>\n",
       "      <td>7349.0</td>\n",
       "    </tr>\n",
       "  </tbody>\n",
       "</table>\n",
       "</div>"
      ],
      "text/plain": [
       "     price\n",
       "0  15985.0\n",
       "1   7349.0"
      ]
     },
     "execution_count": 50,
     "metadata": {},
     "output_type": "execute_result"
    }
   ],
   "source": [
    "train_y.head(2)"
   ]
  },
  {
   "cell_type": "markdown",
   "metadata": {},
   "source": [
    "### part b"
   ]
  },
  {
   "cell_type": "code",
   "execution_count": 51,
   "metadata": {},
   "outputs": [],
   "source": [
    "# First we get NaN columns, couse Price has NaNs to first we drop NaN rows from train_y \n",
    "# And get the dropped row indexes to drop them from tra,n_x to.\n",
    "nan_columns = car_data.columns[car_data.isna().any()].tolist()\n",
    "null_price_values = train_y[train_y.isnull().any(axis=1)]\n",
    "price_null_indexes = null_price_values.index.values\n",
    "train_y= train_y.dropna()\n",
    "train_x_b = train_x_a.drop(price_null_indexes,axis=0)"
   ]
  },
  {
   "cell_type": "code",
   "execution_count": 52,
   "metadata": {},
   "outputs": [],
   "source": [
    "# Filling the missing values with median can be applied to numerical columns. So\n",
    "# First we drop the categorical column from train_x_b and put them to train_x_num\n",
    "# Then fill the missing values of numerical train_x_num with median.\n",
    "# Then we get the categorical columns to train_x_cat and concatanate to DataFrame to train_x_b\n",
    "\n",
    "from sklearn.impute import SimpleImputer\n",
    "imputer = SimpleImputer(strategy=\"median\")\n",
    "train_x_cat = train_x_b.select_dtypes([object])\n",
    "categorical_columns = train_x_cat.columns\n",
    "train_x_num = train_x_b.drop(categorical_columns, axis=1)\n",
    "imp = imputer.fit_transform(train_x_num)\n",
    "train_x_num = pd.DataFrame(imp, columns=train_x_num.columns,\n",
    "                          index=train_x_num.index)\n",
    "train_x_cat = train_x_b[categorical_columns].copy()\n",
    "train_x_b = pd.concat([train_x_num,train_x_cat],axis=1,sort=False)"
   ]
  },
  {
   "cell_type": "code",
   "execution_count": 53,
   "metadata": {},
   "outputs": [
    {
     "name": "stdout",
     "output_type": "stream",
     "text": [
      "['wheelbase', 'carlength', 'carwidth', 'carheight', 'curbweight', 'enginesize', 'boreratio', 'stroke', 'compressionratio', 'horsepower', 'peakrpm', 'citympg', 'highwaympg', 'price']\n"
     ]
    }
   ],
   "source": [
    "print(nan_columns)"
   ]
  },
  {
   "cell_type": "code",
   "execution_count": 54,
   "metadata": {},
   "outputs": [
    {
     "data": {
      "text/html": [
       "<div>\n",
       "<style scoped>\n",
       "    .dataframe tbody tr th:only-of-type {\n",
       "        vertical-align: middle;\n",
       "    }\n",
       "\n",
       "    .dataframe tbody tr th {\n",
       "        vertical-align: top;\n",
       "    }\n",
       "\n",
       "    .dataframe thead th {\n",
       "        text-align: right;\n",
       "    }\n",
       "</style>\n",
       "<table border=\"1\" class=\"dataframe\">\n",
       "  <thead>\n",
       "    <tr style=\"text-align: right;\">\n",
       "      <th></th>\n",
       "      <th>wheelbase</th>\n",
       "      <th>carlength</th>\n",
       "      <th>carwidth</th>\n",
       "      <th>carheight</th>\n",
       "      <th>curbweight</th>\n",
       "      <th>enginesize</th>\n",
       "      <th>boreratio</th>\n",
       "      <th>stroke</th>\n",
       "      <th>compressionratio</th>\n",
       "      <th>horsepower</th>\n",
       "      <th>...</th>\n",
       "      <th>highwaympg</th>\n",
       "      <th>fueltype</th>\n",
       "      <th>aspiration</th>\n",
       "      <th>doornumber</th>\n",
       "      <th>carbody</th>\n",
       "      <th>drivewheel</th>\n",
       "      <th>enginelocation</th>\n",
       "      <th>enginetype</th>\n",
       "      <th>cylindernumber</th>\n",
       "      <th>fuelsystem</th>\n",
       "    </tr>\n",
       "  </thead>\n",
       "  <tbody>\n",
       "    <tr>\n",
       "      <th>0</th>\n",
       "      <td>104.3</td>\n",
       "      <td>188.8</td>\n",
       "      <td>67.2</td>\n",
       "      <td>56.2</td>\n",
       "      <td>2403.0</td>\n",
       "      <td>141.0</td>\n",
       "      <td>3.31</td>\n",
       "      <td>3.15</td>\n",
       "      <td>9.5</td>\n",
       "      <td>114.0</td>\n",
       "      <td>...</td>\n",
       "      <td>28.0</td>\n",
       "      <td>gas</td>\n",
       "      <td>std</td>\n",
       "      <td>four</td>\n",
       "      <td>sedan</td>\n",
       "      <td>rwd</td>\n",
       "      <td>front</td>\n",
       "      <td>ohc</td>\n",
       "      <td>four</td>\n",
       "      <td>mpfi</td>\n",
       "    </tr>\n",
       "    <tr>\n",
       "      <th>1</th>\n",
       "      <td>94.5</td>\n",
       "      <td>170.2</td>\n",
       "      <td>63.8</td>\n",
       "      <td>53.5</td>\n",
       "      <td>2024.0</td>\n",
       "      <td>97.0</td>\n",
       "      <td>3.15</td>\n",
       "      <td>3.29</td>\n",
       "      <td>9.4</td>\n",
       "      <td>69.0</td>\n",
       "      <td>...</td>\n",
       "      <td>37.0</td>\n",
       "      <td>gas</td>\n",
       "      <td>std</td>\n",
       "      <td>four</td>\n",
       "      <td>wagon</td>\n",
       "      <td>fwd</td>\n",
       "      <td>front</td>\n",
       "      <td>ohc</td>\n",
       "      <td>four</td>\n",
       "      <td>2bbl</td>\n",
       "    </tr>\n",
       "  </tbody>\n",
       "</table>\n",
       "<p>2 rows × 22 columns</p>\n",
       "</div>"
      ],
      "text/plain": [
       "   wheelbase  carlength  carwidth  carheight  curbweight  enginesize  \\\n",
       "0      104.3      188.8      67.2       56.2      2403.0       141.0   \n",
       "1       94.5      170.2      63.8       53.5      2024.0        97.0   \n",
       "\n",
       "   boreratio  stroke  compressionratio  horsepower    ...      highwaympg  \\\n",
       "0       3.31    3.15               9.5       114.0    ...            28.0   \n",
       "1       3.15    3.29               9.4        69.0    ...            37.0   \n",
       "\n",
       "   fueltype  aspiration doornumber carbody drivewheel enginelocation  \\\n",
       "0       gas         std       four   sedan        rwd          front   \n",
       "1       gas         std       four   wagon        fwd          front   \n",
       "\n",
       "  enginetype cylindernumber fuelsystem  \n",
       "0        ohc           four       mpfi  \n",
       "1        ohc           four       2bbl  \n",
       "\n",
       "[2 rows x 22 columns]"
      ]
     },
     "execution_count": 54,
     "metadata": {},
     "output_type": "execute_result"
    }
   ],
   "source": [
    "train_x_b.head(2)"
   ]
  },
  {
   "cell_type": "markdown",
   "metadata": {},
   "source": [
    "### part c"
   ]
  },
  {
   "cell_type": "code",
   "execution_count": 55,
   "metadata": {},
   "outputs": [],
   "source": [
    "# Above we get the categorical columns to train_x_cat so DataFrame column names are categorical columns\n",
    "categorical_columns = train_x_cat.columns"
   ]
  },
  {
   "cell_type": "code",
   "execution_count": 56,
   "metadata": {},
   "outputs": [
    {
     "name": "stdout",
     "output_type": "stream",
     "text": [
      "Index(['fueltype', 'aspiration', 'doornumber', 'carbody', 'drivewheel',\n",
      "       'enginelocation', 'enginetype', 'cylindernumber', 'fuelsystem'],\n",
      "      dtype='object')\n"
     ]
    }
   ],
   "source": [
    "print(categorical_columns)"
   ]
  },
  {
   "cell_type": "markdown",
   "metadata": {},
   "source": [
    "### part d"
   ]
  },
  {
   "cell_type": "code",
   "execution_count": 57,
   "metadata": {},
   "outputs": [
    {
     "data": {
      "text/plain": [
       "(155, 49)"
      ]
     },
     "execution_count": 57,
     "metadata": {},
     "output_type": "execute_result"
    }
   ],
   "source": [
    "# First we drop categorical columns from train_x_b and put it to train_x_d, \n",
    "# for all categorical columns we use one hot encoder and \n",
    "# convert it to a dataframe then concatanate train_x_d and the related one hot encoded columns dataframe\n",
    "from sklearn.preprocessing import OneHotEncoder\n",
    "train_x_d = train_x_b.drop(categorical_columns, axis=1)\n",
    "\n",
    "for data_cat in categorical_columns:\n",
    "    x_cat = train_x_b[[data_cat]]\n",
    "    cat_encoder = OneHotEncoder(sparse=False)\n",
    "    car_cat_1hot = cat_encoder.fit_transform(x_cat)\n",
    "    df_multilabel_data = pd.DataFrame(car_cat_1hot, columns=cat_encoder.categories_)\n",
    "    train_x_d = pd.concat([train_x_d.reset_index(drop=True),df_multilabel_data.reset_index(drop=True)],axis=1,sort=False)\n",
    "train_x_d.shape"
   ]
  },
  {
   "cell_type": "code",
   "execution_count": 58,
   "metadata": {},
   "outputs": [
    {
     "data": {
      "text/html": [
       "<div>\n",
       "<style scoped>\n",
       "    .dataframe tbody tr th:only-of-type {\n",
       "        vertical-align: middle;\n",
       "    }\n",
       "\n",
       "    .dataframe tbody tr th {\n",
       "        vertical-align: top;\n",
       "    }\n",
       "\n",
       "    .dataframe thead th {\n",
       "        text-align: right;\n",
       "    }\n",
       "</style>\n",
       "<table border=\"1\" class=\"dataframe\">\n",
       "  <thead>\n",
       "    <tr style=\"text-align: right;\">\n",
       "      <th></th>\n",
       "      <th>wheelbase</th>\n",
       "      <th>carlength</th>\n",
       "      <th>carwidth</th>\n",
       "      <th>carheight</th>\n",
       "      <th>curbweight</th>\n",
       "      <th>enginesize</th>\n",
       "      <th>boreratio</th>\n",
       "      <th>stroke</th>\n",
       "      <th>compressionratio</th>\n",
       "      <th>horsepower</th>\n",
       "      <th>...</th>\n",
       "      <th>(three,)</th>\n",
       "      <th>(twelve,)</th>\n",
       "      <th>(two,)</th>\n",
       "      <th>(1bbl,)</th>\n",
       "      <th>(2bbl,)</th>\n",
       "      <th>(4bbl,)</th>\n",
       "      <th>(idi,)</th>\n",
       "      <th>(mfi,)</th>\n",
       "      <th>(mpfi,)</th>\n",
       "      <th>(spdi,)</th>\n",
       "    </tr>\n",
       "  </thead>\n",
       "  <tbody>\n",
       "    <tr>\n",
       "      <th>0</th>\n",
       "      <td>104.3</td>\n",
       "      <td>188.8</td>\n",
       "      <td>67.2</td>\n",
       "      <td>56.2</td>\n",
       "      <td>2403.0</td>\n",
       "      <td>141.0</td>\n",
       "      <td>3.31</td>\n",
       "      <td>3.15</td>\n",
       "      <td>9.5</td>\n",
       "      <td>114.0</td>\n",
       "      <td>...</td>\n",
       "      <td>0.0</td>\n",
       "      <td>0.0</td>\n",
       "      <td>0.0</td>\n",
       "      <td>0.0</td>\n",
       "      <td>0.0</td>\n",
       "      <td>0.0</td>\n",
       "      <td>0.0</td>\n",
       "      <td>0.0</td>\n",
       "      <td>1.0</td>\n",
       "      <td>0.0</td>\n",
       "    </tr>\n",
       "    <tr>\n",
       "      <th>1</th>\n",
       "      <td>94.5</td>\n",
       "      <td>170.2</td>\n",
       "      <td>63.8</td>\n",
       "      <td>53.5</td>\n",
       "      <td>2024.0</td>\n",
       "      <td>97.0</td>\n",
       "      <td>3.15</td>\n",
       "      <td>3.29</td>\n",
       "      <td>9.4</td>\n",
       "      <td>69.0</td>\n",
       "      <td>...</td>\n",
       "      <td>0.0</td>\n",
       "      <td>0.0</td>\n",
       "      <td>0.0</td>\n",
       "      <td>0.0</td>\n",
       "      <td>1.0</td>\n",
       "      <td>0.0</td>\n",
       "      <td>0.0</td>\n",
       "      <td>0.0</td>\n",
       "      <td>0.0</td>\n",
       "      <td>0.0</td>\n",
       "    </tr>\n",
       "  </tbody>\n",
       "</table>\n",
       "<p>2 rows × 49 columns</p>\n",
       "</div>"
      ],
      "text/plain": [
       "   wheelbase  carlength  carwidth  carheight  curbweight  enginesize  \\\n",
       "0      104.3      188.8      67.2       56.2      2403.0       141.0   \n",
       "1       94.5      170.2      63.8       53.5      2024.0        97.0   \n",
       "\n",
       "   boreratio  stroke  compressionratio  horsepower   ...     (three,)  \\\n",
       "0       3.31    3.15               9.5       114.0   ...          0.0   \n",
       "1       3.15    3.29               9.4        69.0   ...          0.0   \n",
       "\n",
       "   (twelve,)  (two,)  (1bbl,)  (2bbl,)  (4bbl,)  (idi,)  (mfi,)  (mpfi,)  \\\n",
       "0        0.0     0.0      0.0      0.0      0.0     0.0     0.0      1.0   \n",
       "1        0.0     0.0      0.0      1.0      0.0     0.0     0.0      0.0   \n",
       "\n",
       "   (spdi,)  \n",
       "0      0.0  \n",
       "1      0.0  \n",
       "\n",
       "[2 rows x 49 columns]"
      ]
     },
     "execution_count": 58,
     "metadata": {},
     "output_type": "execute_result"
    }
   ],
   "source": [
    "train_x_d.head(2)"
   ]
  },
  {
   "cell_type": "markdown",
   "metadata": {},
   "source": [
    "### part e"
   ]
  },
  {
   "cell_type": "code",
   "execution_count": 59,
   "metadata": {},
   "outputs": [],
   "source": [
    "# Use standart scaler for scaling just for not encoded numerical columns, \n",
    "# So we drop scaled columns from train_x_d and concatanate scaled numerical columns and one hot encoded columns\n",
    "# to obtain train_x_e\n",
    "\n",
    "from sklearn.preprocessing import StandardScaler\n",
    "scaler = StandardScaler()\n",
    "\n",
    "columns_scale =train_x_num.columns\n",
    "train_x_sca = scaler.fit_transform(train_x_d[columns_scale])\n",
    "train_x_sca = pd.DataFrame(train_x_sca,train_x_num.index,train_x_num.columns)\n",
    "train_x_d = train_x_d.drop(columns_scale, axis=1)\n",
    "train_x_e = pd.concat([train_x_sca.reset_index(drop=True),train_x_d.reset_index(drop=True)],axis=1,sort=False)"
   ]
  },
  {
   "cell_type": "code",
   "execution_count": 60,
   "metadata": {},
   "outputs": [
    {
     "data": {
      "text/html": [
       "<div>\n",
       "<style scoped>\n",
       "    .dataframe tbody tr th:only-of-type {\n",
       "        vertical-align: middle;\n",
       "    }\n",
       "\n",
       "    .dataframe tbody tr th {\n",
       "        vertical-align: top;\n",
       "    }\n",
       "\n",
       "    .dataframe thead th {\n",
       "        text-align: right;\n",
       "    }\n",
       "</style>\n",
       "<table border=\"1\" class=\"dataframe\">\n",
       "  <thead>\n",
       "    <tr style=\"text-align: right;\">\n",
       "      <th></th>\n",
       "      <th>wheelbase</th>\n",
       "      <th>carlength</th>\n",
       "      <th>carwidth</th>\n",
       "      <th>carheight</th>\n",
       "      <th>curbweight</th>\n",
       "      <th>enginesize</th>\n",
       "      <th>boreratio</th>\n",
       "      <th>stroke</th>\n",
       "      <th>compressionratio</th>\n",
       "      <th>horsepower</th>\n",
       "      <th>...</th>\n",
       "      <th>(three,)</th>\n",
       "      <th>(twelve,)</th>\n",
       "      <th>(two,)</th>\n",
       "      <th>(1bbl,)</th>\n",
       "      <th>(2bbl,)</th>\n",
       "      <th>(4bbl,)</th>\n",
       "      <th>(idi,)</th>\n",
       "      <th>(mfi,)</th>\n",
       "      <th>(mpfi,)</th>\n",
       "      <th>(spdi,)</th>\n",
       "    </tr>\n",
       "  </thead>\n",
       "  <tbody>\n",
       "    <tr>\n",
       "      <th>0</th>\n",
       "      <td>1.040486</td>\n",
       "      <td>1.218356</td>\n",
       "      <td>0.697865</td>\n",
       "      <td>1.103479</td>\n",
       "      <td>-0.217359</td>\n",
       "      <td>0.427546</td>\n",
       "      <td>-0.000506</td>\n",
       "      <td>-0.298040</td>\n",
       "      <td>-0.115772</td>\n",
       "      <td>0.312992</td>\n",
       "      <td>...</td>\n",
       "      <td>0.0</td>\n",
       "      <td>0.0</td>\n",
       "      <td>0.0</td>\n",
       "      <td>0.0</td>\n",
       "      <td>0.0</td>\n",
       "      <td>0.0</td>\n",
       "      <td>0.0</td>\n",
       "      <td>0.0</td>\n",
       "      <td>1.0</td>\n",
       "      <td>0.0</td>\n",
       "    </tr>\n",
       "    <tr>\n",
       "      <th>1</th>\n",
       "      <td>-0.729389</td>\n",
       "      <td>-0.266100</td>\n",
       "      <td>-1.003614</td>\n",
       "      <td>-0.089818</td>\n",
       "      <td>-0.968641</td>\n",
       "      <td>-0.679464</td>\n",
       "      <td>-0.628165</td>\n",
       "      <td>0.134277</td>\n",
       "      <td>-0.142667</td>\n",
       "      <td>-0.909358</td>\n",
       "      <td>...</td>\n",
       "      <td>0.0</td>\n",
       "      <td>0.0</td>\n",
       "      <td>0.0</td>\n",
       "      <td>0.0</td>\n",
       "      <td>1.0</td>\n",
       "      <td>0.0</td>\n",
       "      <td>0.0</td>\n",
       "      <td>0.0</td>\n",
       "      <td>0.0</td>\n",
       "      <td>0.0</td>\n",
       "    </tr>\n",
       "  </tbody>\n",
       "</table>\n",
       "<p>2 rows × 49 columns</p>\n",
       "</div>"
      ],
      "text/plain": [
       "   wheelbase  carlength  carwidth  carheight  curbweight  enginesize  \\\n",
       "0   1.040486   1.218356  0.697865   1.103479   -0.217359    0.427546   \n",
       "1  -0.729389  -0.266100 -1.003614  -0.089818   -0.968641   -0.679464   \n",
       "\n",
       "   boreratio    stroke  compressionratio  horsepower   ...     (three,)  \\\n",
       "0  -0.000506 -0.298040         -0.115772    0.312992   ...          0.0   \n",
       "1  -0.628165  0.134277         -0.142667   -0.909358   ...          0.0   \n",
       "\n",
       "   (twelve,)  (two,)  (1bbl,)  (2bbl,)  (4bbl,)  (idi,)  (mfi,)  (mpfi,)  \\\n",
       "0        0.0     0.0      0.0      0.0      0.0     0.0     0.0      1.0   \n",
       "1        0.0     0.0      0.0      1.0      0.0     0.0     0.0      0.0   \n",
       "\n",
       "   (spdi,)  \n",
       "0      0.0  \n",
       "1      0.0  \n",
       "\n",
       "[2 rows x 49 columns]"
      ]
     },
     "execution_count": 60,
     "metadata": {},
     "output_type": "execute_result"
    }
   ],
   "source": [
    "train_x_e.head(2)"
   ]
  },
  {
   "cell_type": "markdown",
   "metadata": {},
   "source": [
    "## Data Exploration"
   ]
  },
  {
   "cell_type": "markdown",
   "metadata": {},
   "source": [
    "### part f"
   ]
  },
  {
   "cell_type": "code",
   "execution_count": 61,
   "metadata": {},
   "outputs": [
    {
     "data": {
      "image/png": "[encoded data removed]",
      "text/plain": [
       "<Figure size 1440x1080 with 49 Axes>"
      ]
     },
     "metadata": {
      "needs_background": "light"
     },
     "output_type": "display_data"
    }
   ],
   "source": [
    "# Plotting all data on histogram\n",
    "train_x_e.hist(bins=50, figsize=(20,15))\n",
    "plt.show()"
   ]
  },
  {
   "cell_type": "markdown",
   "metadata": {},
   "source": [
    "### part g"
   ]
  },
  {
   "cell_type": "code",
   "execution_count": 62,
   "metadata": {},
   "outputs": [],
   "source": [
    "# To obtain correlation matrix we introduuce a new Dataframe containing the Price columns.\n",
    "# corr_num_df is the concatanated Dataframe.\n",
    "\n",
    "corr_num_df = pd.concat([train_x_num.reset_index(drop=True),train_y.reset_index(drop=True)],axis=1,sort=False)\n",
    "corr_matrix = corr_num_df.corr()\n",
    "corr_list = np.absolute(corr_matrix[\"price\"].sort_values(ascending=False))\n",
    "\n",
    "top_5_corr = corr_list[0:5]"
   ]
  },
  {
   "cell_type": "code",
   "execution_count": 63,
   "metadata": {},
   "outputs": [
    {
     "name": "stdout",
     "output_type": "stream",
     "text": [
      "price         1.000000\n",
      "enginesize    0.873041\n",
      "curbweight    0.825639\n",
      "horsepower    0.799281\n",
      "carwidth      0.726373\n",
      "Name: price, dtype: float64\n"
     ]
    }
   ],
   "source": [
    "print(top_5_corr)"
   ]
  },
  {
   "cell_type": "markdown",
   "metadata": {},
   "source": [
    "### part h"
   ]
  },
  {
   "cell_type": "code",
   "execution_count": 64,
   "metadata": {},
   "outputs": [
    {
     "data": {
      "text/plain": [
       "array([[<matplotlib.axes._subplots.AxesSubplot object at 0x0000025CA49B7048>,\n",
       "        <matplotlib.axes._subplots.AxesSubplot object at 0x0000025CA9177198>,\n",
       "        <matplotlib.axes._subplots.AxesSubplot object at 0x0000025CA912ABE0>,\n",
       "        <matplotlib.axes._subplots.AxesSubplot object at 0x0000025CA8E9E7B8>,\n",
       "        <matplotlib.axes._subplots.AxesSubplot object at 0x0000025CA76AA9E8>],\n",
       "       [<matplotlib.axes._subplots.AxesSubplot object at 0x0000025CA7410EF0>,\n",
       "        <matplotlib.axes._subplots.AxesSubplot object at 0x0000025CA8911978>,\n",
       "        <matplotlib.axes._subplots.AxesSubplot object at 0x0000025CA7EA7A58>,\n",
       "        <matplotlib.axes._subplots.AxesSubplot object at 0x0000025CA7EA71D0>,\n",
       "        <matplotlib.axes._subplots.AxesSubplot object at 0x0000025CA7321CC0>],\n",
       "       [<matplotlib.axes._subplots.AxesSubplot object at 0x0000025CA76472B0>,\n",
       "        <matplotlib.axes._subplots.AxesSubplot object at 0x0000025CA8ABD080>,\n",
       "        <matplotlib.axes._subplots.AxesSubplot object at 0x0000025CACA8BFD0>,\n",
       "        <matplotlib.axes._subplots.AxesSubplot object at 0x0000025CAC7E25C0>,\n",
       "        <matplotlib.axes._subplots.AxesSubplot object at 0x0000025CA85C7F28>],\n",
       "       [<matplotlib.axes._subplots.AxesSubplot object at 0x0000025CAA8E09B0>,\n",
       "        <matplotlib.axes._subplots.AxesSubplot object at 0x0000025CAC92FB70>,\n",
       "        <matplotlib.axes._subplots.AxesSubplot object at 0x0000025CA794A278>,\n",
       "        <matplotlib.axes._subplots.AxesSubplot object at 0x0000025CA7CA9908>,\n",
       "        <matplotlib.axes._subplots.AxesSubplot object at 0x0000025CA96411D0>],\n",
       "       [<matplotlib.axes._subplots.AxesSubplot object at 0x0000025CA769C780>,\n",
       "        <matplotlib.axes._subplots.AxesSubplot object at 0x0000025CA95E5048>,\n",
       "        <matplotlib.axes._subplots.AxesSubplot object at 0x0000025CA7DE3780>,\n",
       "        <matplotlib.axes._subplots.AxesSubplot object at 0x0000025CA95BD0B8>,\n",
       "        <matplotlib.axes._subplots.AxesSubplot object at 0x0000025CA796BCC0>]],\n",
       "      dtype=object)"
      ]
     },
     "execution_count": 64,
     "metadata": {},
     "output_type": "execute_result"
    },
    {
     "data": {
      "image/png": "[encoded data removed]",
      "text/plain": [
       "<Figure size 864x576 with 25 Axes>"
      ]
     },
     "metadata": {
      "needs_background": "light"
     },
     "output_type": "display_data"
    }
   ],
   "source": [
    "from pandas.plotting import scatter_matrix\n",
    "\n",
    "attributes = [\"price\", \"enginesize\", \"curbweight\",\"carwidth\",\"horsepower\"]\n",
    "scatter_matrix(corr_num_df[attributes], figsize=(12, 8))"
   ]
  },
  {
   "cell_type": "markdown",
   "metadata": {},
   "source": [
    "## LINEAR REGRESSION TO PREDICT CAR PRICES"
   ]
  },
  {
   "cell_type": "markdown",
   "metadata": {},
   "source": [
    "### part i"
   ]
  },
  {
   "cell_type": "code",
   "execution_count": 65,
   "metadata": {},
   "outputs": [
    {
     "name": "stdout",
     "output_type": "stream",
     "text": [
      "4293452.590313229\n"
     ]
    }
   ],
   "source": [
    "# Create a default linear regression and  train it with train_x_e and train_y\n",
    "\n",
    "from sklearn.linear_model import LinearRegression\n",
    "from sklearn.metrics import mean_squared_error\n",
    "lr_model = LinearRegression()\n",
    "lr_model.fit(train_x_e, train_y)\n",
    "train_predition = lr_model.predict(train_x_e)\n",
    "train_mse_score =  mean_squared_error(train_y, train_predition)\n",
    "print(train_mse_score)"
   ]
  },
  {
   "cell_type": "markdown",
   "metadata": {},
   "source": [
    "### part j"
   ]
  },
  {
   "cell_type": "code",
   "execution_count": 66,
   "metadata": {},
   "outputs": [
    {
     "name": "stdout",
     "output_type": "stream",
     "text": [
      "[ 9997254.79844527  6667520.06337814  8010686.21848618 11491802.34766716\n",
      "  7184954.87323614]\n"
     ]
    }
   ],
   "source": [
    "# 5-fold cross validation\n",
    "\n",
    "from sklearn.model_selection import cross_val_score\n",
    "cross_val_scores = cross_val_score(lr_model, train_x_e, train_y,\n",
    "                         scoring=\"neg_mean_squared_error\", cv=5)\n",
    "train_mse_score = abs(cross_val_scores)\n",
    "print(train_mse_score)\n"
   ]
  },
  {
   "cell_type": "code",
   "execution_count": 67,
   "metadata": {},
   "outputs": [
    {
     "name": "stdout",
     "output_type": "stream",
     "text": [
      "8670443.660242578\n"
     ]
    }
   ],
   "source": [
    "average_mse = train_mse_score.mean()\n",
    "print(average_mse)"
   ]
  },
  {
   "cell_type": "markdown",
   "metadata": {},
   "source": [
    "### part k"
   ]
  },
  {
   "cell_type": "code",
   "execution_count": 68,
   "metadata": {},
   "outputs": [],
   "source": [
    "# Get test data to car_data_test and split it to test_x and test_y\n",
    "# price column dropped and copied to a new dataframe\n",
    "\n",
    "car_data_test = pd.read_csv(\"test.csv\")\n",
    "car_data_test.head(2)\n",
    "\n",
    "test_x = car_data_test.drop(\"price\", axis=1)\n",
    "test_y_series = car_data_test[\"price\"].copy()\n",
    "test_y = test_y_series.to_frame() "
   ]
  },
  {
   "cell_type": "code",
   "execution_count": 69,
   "metadata": {},
   "outputs": [],
   "source": [
    "# As maked in train data we drop null price values both from test_y and test_x\n",
    "\n",
    "null_price_values = test_y[test_y.isnull().any(axis=1)]\n",
    "price_null_indexes = null_price_values.index.values\n",
    "test_y= test_y.dropna()\n",
    "test_x = test_x.drop(price_null_indexes,axis=0)"
   ]
  },
  {
   "cell_type": "code",
   "execution_count": 70,
   "metadata": {},
   "outputs": [
    {
     "name": "stdout",
     "output_type": "stream",
     "text": [
      "<class 'pandas.core.frame.DataFrame'>\n",
      "Int64Index: 40 entries, 0 to 40\n",
      "Data columns (total 13 columns):\n",
      "wheelbase           40 non-null float64\n",
      "carlength           40 non-null float64\n",
      "carwidth            40 non-null float64\n",
      "carheight           40 non-null float64\n",
      "curbweight          40 non-null float64\n",
      "enginesize          40 non-null float64\n",
      "boreratio           40 non-null float64\n",
      "stroke              40 non-null float64\n",
      "compressionratio    40 non-null float64\n",
      "horsepower          40 non-null float64\n",
      "peakrpm             40 non-null float64\n",
      "citympg             40 non-null float64\n",
      "highwaympg          40 non-null float64\n",
      "dtypes: float64(13)\n",
      "memory usage: 4.4 KB\n"
     ]
    }
   ],
   "source": [
    "# Filling the missing values with median can be applied to numerical columns. So\n",
    "# First we drop the categorical column from test_x and put them to test_x_num\n",
    "# Then fill the missing values of numerical test_x_num with median. And then Standart scale it.\n",
    "test_x_cat = test_x[categorical_columns].copy()\n",
    "test_x = test_x.drop(categorical_columns, axis=1)\n",
    "\n",
    "\n",
    "imp_test = imputer.fit_transform(test_x)\n",
    "test_x = pd.DataFrame(imp_test, columns=test_x.columns,\n",
    "                          index=test_x.index)\n",
    "\n",
    "test_x_sca = scaler.fit_transform(test_x)\n",
    "test_x = pd.DataFrame(test_x_sca,test_x.index,test_x.columns)\n",
    "\n",
    "test_x.info()"
   ]
  },
  {
   "cell_type": "code",
   "execution_count": 71,
   "metadata": {},
   "outputs": [],
   "source": [
    "for data_cat in categorical_columns:\n",
    "    x_cat = test_x_cat[[data_cat]]\n",
    "    cat_encoder = OneHotEncoder(sparse=False)\n",
    "    car_cat_1hot = cat_encoder.fit_transform(x_cat)\n",
    "    df_multilabel_data = pd.DataFrame(car_cat_1hot, columns=cat_encoder.categories_)\n",
    "    test_x = pd.concat([test_x.reset_index(drop=True),df_multilabel_data.reset_index(drop=True)],axis=1,sort=False)"
   ]
  },
  {
   "cell_type": "code",
   "execution_count": 72,
   "metadata": {},
   "outputs": [
    {
     "data": {
      "text/html": [
       "<div>\n",
       "<style scoped>\n",
       "    .dataframe tbody tr th:only-of-type {\n",
       "        vertical-align: middle;\n",
       "    }\n",
       "\n",
       "    .dataframe tbody tr th {\n",
       "        vertical-align: top;\n",
       "    }\n",
       "\n",
       "    .dataframe thead th {\n",
       "        text-align: right;\n",
       "    }\n",
       "</style>\n",
       "<table border=\"1\" class=\"dataframe\">\n",
       "  <thead>\n",
       "    <tr style=\"text-align: right;\">\n",
       "      <th></th>\n",
       "      <th>wheelbase</th>\n",
       "      <th>carlength</th>\n",
       "      <th>carwidth</th>\n",
       "      <th>carheight</th>\n",
       "      <th>curbweight</th>\n",
       "      <th>enginesize</th>\n",
       "      <th>boreratio</th>\n",
       "      <th>stroke</th>\n",
       "      <th>compressionratio</th>\n",
       "      <th>horsepower</th>\n",
       "      <th>...</th>\n",
       "      <th>(three,)</th>\n",
       "      <th>(twelve,)</th>\n",
       "      <th>(two,)</th>\n",
       "      <th>(1bbl,)</th>\n",
       "      <th>(2bbl,)</th>\n",
       "      <th>(4bbl,)</th>\n",
       "      <th>(idi,)</th>\n",
       "      <th>(mfi,)</th>\n",
       "      <th>(mpfi,)</th>\n",
       "      <th>(spdi,)</th>\n",
       "    </tr>\n",
       "  </thead>\n",
       "  <tbody>\n",
       "    <tr>\n",
       "      <th>0</th>\n",
       "      <td>0.932810</td>\n",
       "      <td>1.326619</td>\n",
       "      <td>2.076961</td>\n",
       "      <td>0.566013</td>\n",
       "      <td>0.430246</td>\n",
       "      <td>-0.042623</td>\n",
       "      <td>-0.712848</td>\n",
       "      <td>0.347447</td>\n",
       "      <td>-0.498378</td>\n",
       "      <td>0.047788</td>\n",
       "      <td>...</td>\n",
       "      <td>0.0</td>\n",
       "      <td>0.0</td>\n",
       "      <td>0.0</td>\n",
       "      <td>0.0</td>\n",
       "      <td>0.0</td>\n",
       "      <td>0.0</td>\n",
       "      <td>0.0</td>\n",
       "      <td>0.0</td>\n",
       "      <td>1.0</td>\n",
       "      <td>0.0</td>\n",
       "    </tr>\n",
       "    <tr>\n",
       "      <th>1</th>\n",
       "      <td>-0.517275</td>\n",
       "      <td>-0.097773</td>\n",
       "      <td>-1.500195</td>\n",
       "      <td>-0.092620</td>\n",
       "      <td>-0.701135</td>\n",
       "      <td>-0.583212</td>\n",
       "      <td>-0.859073</td>\n",
       "      <td>0.987246</td>\n",
       "      <td>-0.379717</td>\n",
       "      <td>-0.479532</td>\n",
       "      <td>...</td>\n",
       "      <td>0.0</td>\n",
       "      <td>0.0</td>\n",
       "      <td>0.0</td>\n",
       "      <td>1.0</td>\n",
       "      <td>0.0</td>\n",
       "      <td>0.0</td>\n",
       "      <td>0.0</td>\n",
       "      <td>0.0</td>\n",
       "      <td>0.0</td>\n",
       "      <td>0.0</td>\n",
       "    </tr>\n",
       "  </tbody>\n",
       "</table>\n",
       "<p>2 rows × 49 columns</p>\n",
       "</div>"
      ],
      "text/plain": [
       "   wheelbase  carlength  carwidth  carheight  curbweight  enginesize  \\\n",
       "0   0.932810   1.326619  2.076961   0.566013    0.430246   -0.042623   \n",
       "1  -0.517275  -0.097773 -1.500195  -0.092620   -0.701135   -0.583212   \n",
       "\n",
       "   boreratio    stroke  compressionratio  horsepower   ...     (three,)  \\\n",
       "0  -0.712848  0.347447         -0.498378    0.047788   ...          0.0   \n",
       "1  -0.859073  0.987246         -0.379717   -0.479532   ...          0.0   \n",
       "\n",
       "   (twelve,)  (two,)  (1bbl,)  (2bbl,)  (4bbl,)  (idi,)  (mfi,)  (mpfi,)  \\\n",
       "0        0.0     0.0      0.0      0.0      0.0     0.0     0.0      1.0   \n",
       "1        0.0     0.0      1.0      0.0      0.0     0.0     0.0      0.0   \n",
       "\n",
       "   (spdi,)  \n",
       "0      0.0  \n",
       "1      0.0  \n",
       "\n",
       "[2 rows x 49 columns]"
      ]
     },
     "execution_count": 72,
     "metadata": {},
     "output_type": "execute_result"
    }
   ],
   "source": [
    "test_x.head(2)"
   ]
  },
  {
   "cell_type": "code",
   "execution_count": 73,
   "metadata": {},
   "outputs": [
    {
     "data": {
      "text/html": [
       "<div>\n",
       "<style scoped>\n",
       "    .dataframe tbody tr th:only-of-type {\n",
       "        vertical-align: middle;\n",
       "    }\n",
       "\n",
       "    .dataframe tbody tr th {\n",
       "        vertical-align: top;\n",
       "    }\n",
       "\n",
       "    .dataframe thead th {\n",
       "        text-align: right;\n",
       "    }\n",
       "</style>\n",
       "<table border=\"1\" class=\"dataframe\">\n",
       "  <thead>\n",
       "    <tr style=\"text-align: right;\">\n",
       "      <th></th>\n",
       "      <th>price</th>\n",
       "    </tr>\n",
       "  </thead>\n",
       "  <tbody>\n",
       "    <tr>\n",
       "      <th>0</th>\n",
       "      <td>18920.0</td>\n",
       "    </tr>\n",
       "    <tr>\n",
       "      <th>1</th>\n",
       "      <td>10295.0</td>\n",
       "    </tr>\n",
       "  </tbody>\n",
       "</table>\n",
       "</div>"
      ],
      "text/plain": [
       "     price\n",
       "0  18920.0\n",
       "1  10295.0"
      ]
     },
     "execution_count": 73,
     "metadata": {},
     "output_type": "execute_result"
    }
   ],
   "source": [
    "test_y.head(2)"
   ]
  },
  {
   "cell_type": "markdown",
   "metadata": {},
   "source": [
    "### part l"
   ]
  },
  {
   "cell_type": "code",
   "execution_count": 74,
   "metadata": {},
   "outputs": [],
   "source": [
    "# model prediction on test_x dataframe\n",
    "# print MSE score and Co-efficients\n",
    "predicted_values = lr_model.predict(test_x)"
   ]
  },
  {
   "cell_type": "code",
   "execution_count": 75,
   "metadata": {},
   "outputs": [
    {
     "name": "stdout",
     "output_type": "stream",
     "text": [
      "[[23512.58392894]\n",
      " [13999.19340331]\n",
      " [ 6287.68406375]]\n"
     ]
    }
   ],
   "source": [
    "print(predicted_values[10:13])"
   ]
  },
  {
   "cell_type": "code",
   "execution_count": 76,
   "metadata": {},
   "outputs": [
    {
     "name": "stdout",
     "output_type": "stream",
     "text": [
      "15206608.022007544\n"
     ]
    }
   ],
   "source": [
    "test_mse_score = mean_squared_error(test_y, predicted_values)\n",
    "print(test_mse_score)"
   ]
  },
  {
   "cell_type": "code",
   "execution_count": 77,
   "metadata": {},
   "outputs": [
    {
     "name": "stdout",
     "output_type": "stream",
     "text": [
      "[[ -182.50390789    17.77791293   482.81638969   104.58617988\n",
      "   1594.18156825  4256.71313249   -38.99302906 -1321.89317472\n",
      "    384.75573887  1307.10308185   517.30038623  -656.6777968\n",
      "    909.82948041   303.83998109  -303.83998109  -833.75837893\n",
      "    833.75837893  -159.35665013   159.35665013  1542.4145792\n",
      "   -102.94119627 -1139.24923892    17.7188586   -317.9430026\n",
      "   -356.18410821    12.7432581    343.44085011 -3344.81001829\n",
      "   3344.81001829  -372.6897473    504.78138728  4017.61826575\n",
      "    988.4968924  -6495.11386517  1356.90706703  9413.84688919\n",
      "  -2844.87981562 -4736.26827118  -264.02978738  3202.35838074\n",
      "  -6127.93446278  1356.90706703   804.76067885   118.99207544\n",
      "   1356.90706703   303.83998109 -1239.14937015   616.95778215\n",
      "  -1962.30821441]]\n"
     ]
    }
   ],
   "source": [
    "print(lr_model.coef_)"
   ]
  },
  {
   "cell_type": "markdown",
   "metadata": {},
   "source": [
    "### part m"
   ]
  },
  {
   "cell_type": "code",
   "execution_count": 78,
   "metadata": {},
   "outputs": [],
   "source": [
    "# From the above correlation graph enginesize shouldbe a good choice for 2-degree polynomial feature.\n",
    "# get the enginesize polynomial featues and convert it to a dataframe.\n",
    "# then we concatanate the dataframe with train_x_e to train_x_m\n",
    "# then we drop enginesize becouse the duplication of data\n",
    "\n",
    "from sklearn.preprocessing import PolynomialFeatures\n",
    "poly_features = PolynomialFeatures(degree=2, include_bias=False)\n",
    "enginesize_poly = poly_features.fit_transform(train_x_e[[\"enginesize\"]])\n",
    "enginesize_columns = poly_features.get_feature_names()\n",
    "df_multilabel_data = pd.DataFrame(enginesize_poly, columns=enginesize_columns)\n",
    "train_x_m = pd.concat([train_x_e.reset_index(drop=True),df_multilabel_data.reset_index(drop=True)],axis=1,sort=False)\n",
    "train_x_m = train_x_m.drop(\"enginesize\", axis=1)"
   ]
  },
  {
   "cell_type": "code",
   "execution_count": 79,
   "metadata": {},
   "outputs": [
    {
     "data": {
      "text/html": [
       "<div>\n",
       "<style scoped>\n",
       "    .dataframe tbody tr th:only-of-type {\n",
       "        vertical-align: middle;\n",
       "    }\n",
       "\n",
       "    .dataframe tbody tr th {\n",
       "        vertical-align: top;\n",
       "    }\n",
       "\n",
       "    .dataframe thead th {\n",
       "        text-align: right;\n",
       "    }\n",
       "</style>\n",
       "<table border=\"1\" class=\"dataframe\">\n",
       "  <thead>\n",
       "    <tr style=\"text-align: right;\">\n",
       "      <th></th>\n",
       "      <th>wheelbase</th>\n",
       "      <th>carlength</th>\n",
       "      <th>carwidth</th>\n",
       "      <th>carheight</th>\n",
       "      <th>curbweight</th>\n",
       "      <th>boreratio</th>\n",
       "      <th>stroke</th>\n",
       "      <th>compressionratio</th>\n",
       "      <th>horsepower</th>\n",
       "      <th>peakrpm</th>\n",
       "      <th>...</th>\n",
       "      <th>(two,)</th>\n",
       "      <th>(1bbl,)</th>\n",
       "      <th>(2bbl,)</th>\n",
       "      <th>(4bbl,)</th>\n",
       "      <th>(idi,)</th>\n",
       "      <th>(mfi,)</th>\n",
       "      <th>(mpfi,)</th>\n",
       "      <th>(spdi,)</th>\n",
       "      <th>x0</th>\n",
       "      <th>x0^2</th>\n",
       "    </tr>\n",
       "  </thead>\n",
       "  <tbody>\n",
       "    <tr>\n",
       "      <th>0</th>\n",
       "      <td>1.040486</td>\n",
       "      <td>1.218356</td>\n",
       "      <td>0.697865</td>\n",
       "      <td>1.103479</td>\n",
       "      <td>-0.217359</td>\n",
       "      <td>-0.000506</td>\n",
       "      <td>-0.298040</td>\n",
       "      <td>-0.115772</td>\n",
       "      <td>0.312992</td>\n",
       "      <td>0.600889</td>\n",
       "      <td>...</td>\n",
       "      <td>0.0</td>\n",
       "      <td>0.0</td>\n",
       "      <td>0.0</td>\n",
       "      <td>0.0</td>\n",
       "      <td>0.0</td>\n",
       "      <td>0.0</td>\n",
       "      <td>1.0</td>\n",
       "      <td>0.0</td>\n",
       "      <td>0.427546</td>\n",
       "      <td>0.182796</td>\n",
       "    </tr>\n",
       "    <tr>\n",
       "      <th>1</th>\n",
       "      <td>-0.729389</td>\n",
       "      <td>-0.266100</td>\n",
       "      <td>-1.003614</td>\n",
       "      <td>-0.089818</td>\n",
       "      <td>-0.968641</td>\n",
       "      <td>-0.628165</td>\n",
       "      <td>0.134277</td>\n",
       "      <td>-0.142667</td>\n",
       "      <td>-0.909358</td>\n",
       "      <td>0.150404</td>\n",
       "      <td>...</td>\n",
       "      <td>0.0</td>\n",
       "      <td>0.0</td>\n",
       "      <td>1.0</td>\n",
       "      <td>0.0</td>\n",
       "      <td>0.0</td>\n",
       "      <td>0.0</td>\n",
       "      <td>0.0</td>\n",
       "      <td>0.0</td>\n",
       "      <td>-0.679464</td>\n",
       "      <td>0.461671</td>\n",
       "    </tr>\n",
       "  </tbody>\n",
       "</table>\n",
       "<p>2 rows × 50 columns</p>\n",
       "</div>"
      ],
      "text/plain": [
       "   wheelbase  carlength  carwidth  carheight  curbweight  boreratio    stroke  \\\n",
       "0   1.040486   1.218356  0.697865   1.103479   -0.217359  -0.000506 -0.298040   \n",
       "1  -0.729389  -0.266100 -1.003614  -0.089818   -0.968641  -0.628165  0.134277   \n",
       "\n",
       "   compressionratio  horsepower   peakrpm    ...     (two,)  (1bbl,)  (2bbl,)  \\\n",
       "0         -0.115772    0.312992  0.600889    ...        0.0      0.0      0.0   \n",
       "1         -0.142667   -0.909358  0.150404    ...        0.0      0.0      1.0   \n",
       "\n",
       "   (4bbl,)  (idi,)  (mfi,)  (mpfi,)  (spdi,)        x0      x0^2  \n",
       "0      0.0     0.0     0.0      1.0      0.0  0.427546  0.182796  \n",
       "1      0.0     0.0     0.0      0.0      0.0 -0.679464  0.461671  \n",
       "\n",
       "[2 rows x 50 columns]"
      ]
     },
     "execution_count": 79,
     "metadata": {},
     "output_type": "execute_result"
    }
   ],
   "source": [
    "train_x_m.head(2)"
   ]
  },
  {
   "cell_type": "code",
   "execution_count": 80,
   "metadata": {},
   "outputs": [],
   "source": [
    "# we create a default linear regression model for polynomial feature\n",
    "# we train it on train_x_m and get 5-fold cross validation scores\n",
    "lr_model_poly = LinearRegression()\n",
    "lr_model_poly.fit(train_x_m,train_y)\n",
    "cross_val_scores = cross_val_score(lr_model_poly, train_x_m, train_y,\n",
    "                         scoring=\"neg_mean_squared_error\", cv=5)\n",
    "train_mse_score = abs(cross_val_scores)"
   ]
  },
  {
   "cell_type": "code",
   "execution_count": 81,
   "metadata": {},
   "outputs": [
    {
     "name": "stdout",
     "output_type": "stream",
     "text": [
      "10557579.186065381\n"
     ]
    }
   ],
   "source": [
    "average_mse = train_mse_score.mean()\n",
    "print(average_mse)"
   ]
  },
  {
   "cell_type": "markdown",
   "metadata": {},
   "source": [
    "### part n"
   ]
  },
  {
   "cell_type": "code",
   "execution_count": 82,
   "metadata": {},
   "outputs": [
    {
     "name": "stdout",
     "output_type": "stream",
     "text": [
      "[ 9197451.74517269  5333165.82614389  6106733.05882043  8687335.55033289\n",
      " 21352620.40970892]\n"
     ]
    }
   ],
   "source": [
    "# We create a default Lasso regularization model and perform 5-fold cross validation on train_x_m and train_y\n",
    "# get the absolute value of MSE scores\n",
    "\n",
    "from sklearn.linear_model import Lasso\n",
    "lasso = Lasso()\n",
    "lasso.fit(train_x_m,train_y)\n",
    "cross_val_scores = cross_val_score(lasso, train_x_m, train_y,\n",
    "                         scoring=\"neg_mean_squared_error\", cv=5)\n",
    "train_mse_score = abs(cross_val_scores)\n",
    "print(train_mse_score)"
   ]
  },
  {
   "cell_type": "code",
   "execution_count": 83,
   "metadata": {},
   "outputs": [
    {
     "name": "stdout",
     "output_type": "stream",
     "text": [
      "10135461.318035763\n"
     ]
    }
   ],
   "source": [
    "average_mse = train_mse_score.mean()\n",
    "print(average_mse)"
   ]
  },
  {
   "cell_type": "markdown",
   "metadata": {},
   "source": [
    "### part o"
   ]
  },
  {
   "cell_type": "code",
   "execution_count": 113,
   "metadata": {},
   "outputs": [
    {
     "name": "stdout",
     "output_type": "stream",
     "text": [
      "--------min error5333165.826143889---------------\n",
      "--------alpha1---------------\n",
      "--------min error4705052.176444028---------------\n",
      "--------alpha11---------------\n",
      "--------min error4428666.5408213725---------------\n",
      "--------alpha21---------------\n",
      "--------min error4356663.880042934---------------\n",
      "--------alpha31---------------\n"
     ]
    },
    {
     "data": {
      "image/png": "[encoded data removed]",
      "text/plain": [
       "<Figure size 432x288 with 1 Axes>"
      ]
     },
     "metadata": {
      "needs_background": "light"
     },
     "output_type": "display_data"
    }
   ],
   "source": [
    "# first we create a dict for alpha paramaters that is array between 1 -300\n",
    "# we calculate 5- fold cross val for all alpha values in array then store the values in variables.\n",
    "\n",
    "from sklearn.model_selection import GridSearchCV\n",
    "alpha_params = np.arange(1,300,10)\n",
    "min_error = 0\n",
    "min_alpha = 1\n",
    "for alpha in alpha_params:\n",
    "    lasso = Lasso(alpha=alpha)\n",
    "    lasso.fit(train_x_m,train_y)\n",
    "    cross_val_scores = cross_val_score(lasso, train_x_m, train_y,\n",
    "                         scoring=\"neg_mean_squared_error\", cv=5)\n",
    "    plt.plot(abs(cross_val_scores), \"r\", linewidth=\"2\")\n",
    "    all_score =abs(cross_val_scores)\n",
    "    all_score = np.sort(all_score)\n",
    "    all_scores = np.append(all_scores,all_score)\n",
    "    if (min_error == 0 or all_score[0] < min_error):\n",
    "        min_error = all_score[0]\n",
    "        min_alpha = alpha"
   ]
  },
  {
   "cell_type": "code",
   "execution_count": 111,
   "metadata": {
    "ExecuteTime": {
     "end_time": "2019-11-03T19:40:23.083729Z",
     "start_time": "2019-11-03T19:40:23.046853Z"
    }
   },
   "outputs": [
    {
     "name": "stdout",
     "output_type": "stream",
     "text": [
      "Minimum error was 4356663.88 at alpha 31\n"
     ]
    }
   ],
   "source": [
    "print(f\"Minimum error was {round(min_error, 2)} at alpha {min_alpha}\")"
   ]
  },
  {
   "cell_type": "code",
   "execution_count": null,
   "metadata": {},
   "outputs": [],
   "source": [
    "plt.plot(all_scores, \"r\", linewidth=\"2\")"
   ]
  },
  {
   "cell_type": "markdown",
   "metadata": {},
   "source": [
    "### part p"
   ]
  },
  {
   "cell_type": "code",
   "execution_count": null,
   "metadata": {},
   "outputs": [],
   "source": [
    "# we create a SVM 5-fold grid search with the  params defined in svr_params.\n",
    "# and calculate the best params and best score\n",
    "\n",
    "from sklearn.svm import SVR\n",
    "svr_params = [{'kernel': ['rbf'], 'gamma': [0.01, 0.03, 0.1, 0.3, 1.0, 3.0],\n",
    "                     'C': [1.0, 3.0, 10.0, 30.0, 100.0, 300.0, 1000.0, 3000.0]},\n",
    "                    {'kernel': ['linear'], 'C': [10.0, 30.0, 100.0, 300.0, 1000.0, 3000.0, 10000.0, 30000.0]}]\n",
    "grid_search_svr = GridSearchCV(SVR(), svr_params, cv=5,scoring='neg_mean_squared_error', return_train_score=True)\n",
    "grid_search_svr.fit(train_x_e,train_y)\n",
    "\n",
    "best_mse = np.absolute(grid_search_svr.best_score_)\n",
    "best_parameters = grid_search_svr.best_params_ "
   ]
  },
  {
   "cell_type": "code",
   "execution_count": null,
   "metadata": {},
   "outputs": [],
   "source": [
    "print(best_mse)\n",
    "print(best_parameters)"
   ]
  },
  {
   "cell_type": "code",
   "execution_count": null,
   "metadata": {},
   "outputs": [],
   "source": []
  }
 ],
 "metadata": {
  "kernelspec": {
   "display_name": "Python 3",
   "language": "python",
   "name": "python3"
  },
  "language_info": {
   "codemirror_mode": {
    "name": "ipython",
    "version": 3
   },
   "file_extension": ".py",
   "mimetype": "text/x-python",
   "name": "python",
   "nbconvert_exporter": "python",
   "pygments_lexer": "ipython3",
   "version": "3.7.1"
  },
  "toc": {
   "base_numbering": 1,
   "nav_menu": {},
   "number_sections": true,
   "sideBar": true,
   "skip_h1_title": false,
   "title_cell": "Table of Contents",
   "title_sidebar": "Contents",
   "toc_cell": false,
   "toc_position": {},
   "toc_section_display": true,
   "toc_window_display": false
  }
 },
 "nbformat": 4,
 "nbformat_minor": 2
}
